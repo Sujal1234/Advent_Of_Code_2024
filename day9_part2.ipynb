{
 "cells": [
  {
   "cell_type": "code",
   "execution_count": 79,
   "id": "854bab91-3219-4ba4-9610-c136a0635327",
   "metadata": {},
   "outputs": [],
   "source": [
    "with open(\"input.txt\", \"r\") as file:\n",
    "    line = file.read()"
   ]
  },
  {
   "cell_type": "code",
   "execution_count": 80,
   "id": "8d90ffa6-723b-47f4-9b32-6aa89ca883c2",
   "metadata": {},
   "outputs": [],
   "source": [
    "blanks = []\n",
    "files = []\n",
    "pos = 0\n",
    "for i, ch in enumerate(line):\n",
    "    if(i % 2 == 0):\n",
    "        files.append((pos, int(ch)))\n",
    "        pos += int(ch)\n",
    "    else:\n",
    "        if(int(ch) > 0):\n",
    "            blanks.append((pos, int(ch)))\n",
    "            pos += int(ch)"
   ]
  },
  {
   "cell_type": "code",
   "execution_count": 81,
   "id": "11ea835f-ab77-4c62-bc56-a6fa2896010b",
   "metadata": {},
   "outputs": [],
   "source": [
    "for i in range(len(files) - 1, -1, -1):\n",
    "    pos, size = files[i]\n",
    "    for j, (free_space, free) in enumerate(blanks):\n",
    "        if(free_space > pos):\n",
    "            break\n",
    "            \n",
    "        if(free > size):\n",
    "            blanks.pop(j)\n",
    "            blanks.insert(j, (free_space + size, free - size))\n",
    "            files[i] = (free_space, size)\n",
    "            break\n",
    "        elif(free == size):\n",
    "            blanks.pop(j)\n",
    "            files[i] = (free_space, size)\n",
    "            break"
   ]
  },
  {
   "cell_type": "code",
   "execution_count": 82,
   "id": "ee4c5c73-c7d9-4c06-bee4-6cad8bd6a035",
   "metadata": {},
   "outputs": [
    {
     "name": "stdout",
     "output_type": "stream",
     "text": [
      "6547228115826\n"
     ]
    }
   ],
   "source": [
    "tot = 0\n",
    "for i, (pos, size) in enumerate(files):\n",
    "    for j in range(pos, pos+size):\n",
    "        tot += i * j\n",
    "print(tot)"
   ]
  }
 ],
 "metadata": {
  "kernelspec": {
   "display_name": "Python 3 (ipykernel)",
   "language": "python",
   "name": "python3"
  },
  "language_info": {
   "codemirror_mode": {
    "name": "ipython",
    "version": 3
   },
   "file_extension": ".py",
   "mimetype": "text/x-python",
   "name": "python",
   "nbconvert_exporter": "python",
   "pygments_lexer": "ipython3",
   "version": "3.12.7"
  }
 },
 "nbformat": 4,
 "nbformat_minor": 5
}
