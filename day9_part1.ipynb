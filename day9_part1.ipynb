{
 "cells": [
  {
   "cell_type": "code",
   "execution_count": 6,
   "id": "b4cc99c6-cfa0-467e-8ab7-b91ad772a5c8",
   "metadata": {},
   "outputs": [],
   "source": [
    "with open(\"input.txt\", \"r\") as file:\n",
    "    line = file.read()"
   ]
  },
  {
   "cell_type": "code",
   "execution_count": 7,
   "id": "3fa604c0-ee5c-40ef-a1c6-0ad8529cb594",
   "metadata": {},
   "outputs": [],
   "source": [
    "disk = []\n",
    "for i, ch in enumerate(line):\n",
    "    if(i % 2 == 0):\n",
    "        disk += [i//2]*int(ch)\n",
    "    else:\n",
    "        if(int(ch) > 0):\n",
    "            disk += [-1] * int(ch)"
   ]
  },
  {
   "cell_type": "code",
   "execution_count": 3,
   "id": "dcad7785-d7bc-4f4c-af6e-e67430fa337d",
   "metadata": {},
   "outputs": [
    {
     "name": "stdout",
     "output_type": "stream",
     "text": [
      "[0, 0, -1, -1, -1, 1, 1, 1, -1, -1, -1, 2, -1, -1, -1, 3, 3, 3, -1, 4, 4, -1, 5, 5, 5, 5, -1, 6, 6, 6, 6, -1, 7, 7, 7, -1, 8, 8, 8, 8, 9, 9]\n"
     ]
    }
   ],
   "source": [
    "print(disk)"
   ]
  },
  {
   "cell_type": "code",
   "execution_count": 8,
   "id": "01a04151-209a-47c9-a5dc-5e373d20ca7e",
   "metadata": {},
   "outputs": [],
   "source": [
    "d = disk.copy()\n",
    "i, j = 0, len(d)-1\n",
    "while(i < j):\n",
    "    if(d[i] != -1):\n",
    "        i += 1\n",
    "        continue\n",
    "    if(d[j] == -1):\n",
    "        j -= 1\n",
    "        continue\n",
    "    d[i], d[j] = d[j], -1\n",
    "    i += 1\n",
    "    j -= 1"
   ]
  },
  {
   "cell_type": "code",
   "execution_count": 9,
   "id": "f9772875-382b-48d3-a66c-6c71be5243ce",
   "metadata": {},
   "outputs": [
    {
     "name": "stdout",
     "output_type": "stream",
     "text": [
      "6519155389266\n"
     ]
    }
   ],
   "source": [
    "print(sum(x*i for i, x in enumerate(d) if x != -1))"
   ]
  },
  {
   "cell_type": "code",
   "execution_count": null,
   "id": "3266383b-7839-48fd-a2b9-72f85bca3069",
   "metadata": {},
   "outputs": [],
   "source": []
  }
 ],
 "metadata": {
  "kernelspec": {
   "display_name": "Python 3 (ipykernel)",
   "language": "python",
   "name": "python3"
  },
  "language_info": {
   "codemirror_mode": {
    "name": "ipython",
    "version": 3
   },
   "file_extension": ".py",
   "mimetype": "text/x-python",
   "name": "python",
   "nbconvert_exporter": "python",
   "pygments_lexer": "ipython3",
   "version": "3.12.7"
  }
 },
 "nbformat": 4,
 "nbformat_minor": 5
}
