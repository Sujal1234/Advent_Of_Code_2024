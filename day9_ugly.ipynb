{
 "cells": [
  {
   "cell_type": "code",
   "execution_count": 231,
   "id": "053846bf-5955-4298-a520-7c0b2500caaa",
   "metadata": {},
   "outputs": [],
   "source": [
    "with open(\"input.txt\", \"r\") as file:\n",
    "    line = file.read()"
   ]
  },
  {
   "cell_type": "code",
   "execution_count": 232,
   "id": "8fdb79c0-1588-4df8-ad03-b618f3e6a724",
   "metadata": {},
   "outputs": [],
   "source": [
    "disk = []\n",
    "for i, ch in enumerate(line):\n",
    "    if(i % 2 == 0):\n",
    "        disk.append((i//2, int(ch)))\n",
    "    else:\n",
    "        if(int(ch) > 0):\n",
    "            disk.append((-1, int(ch)))"
   ]
  },
  {
   "cell_type": "code",
   "execution_count": 233,
   "id": "bd2f77bb-14c0-423f-a745-c096c0efa41f",
   "metadata": {},
   "outputs": [],
   "source": [
    "# print(disk)"
   ]
  },
  {
   "cell_type": "code",
   "execution_count": 234,
   "id": "743fd107-305c-465c-94be-b62bfb2207c5",
   "metadata": {},
   "outputs": [],
   "source": [
    "# i, j = 0, len(disk) - 1\n",
    "# while(i < j):\n",
    "#     i_id, i_size = disk[i]\n",
    "#     j_id, j_size = disk[j]\n",
    "#     if(i_id != -1):\n",
    "#         i += 1\n",
    "#         continue\n",
    "#     if(j_id == -1):\n",
    "#         j -= 1\n",
    "#         continue\n",
    "        \n",
    "#     file_size, free = j_size, i_size\n",
    "    \n",
    "#     if(file_size <= free):\n",
    "#         if(file_size == free):\n",
    "#             disk[i] = (j_id, file_size)\n",
    "#             disk[j] = (-1, file_size)\n",
    "#             j -= 1\n",
    "#         else:\n",
    "#             disk[i] = (-1, free - file_size)\n",
    "#             disk[j] = (-1, file_size)\n",
    "#             disk.insert(i, (j_id, file_size))\n",
    "#             #j remains same because length of disk increased but we wanted to decrement j anyways\n",
    "#         i += 1\n",
    "#     else:\n",
    "#         disk[i] = (j_id, free)\n",
    "#         disk[j] = (j_id, file_size - free)\n",
    "#         i += 1"
   ]
  },
  {
   "cell_type": "code",
   "execution_count": 235,
   "id": "97a20de4-4cfb-443b-a6ef-d23979ff52fe",
   "metadata": {},
   "outputs": [],
   "source": [
    "# d = [[file]*size for file, size in disk]"
   ]
  },
  {
   "cell_type": "code",
   "execution_count": 236,
   "id": "c50e835d-46ca-4508-8719-e87a5aba3d5d",
   "metadata": {},
   "outputs": [],
   "source": [
    "# flatten = lambda x : [x for x in x for x in x]\n",
    "# d = flatten(d)\n",
    "# print(d)"
   ]
  },
  {
   "cell_type": "code",
   "execution_count": 237,
   "id": "3b34e833-5f9d-4ca3-96b0-6fc9bc1f3e0a",
   "metadata": {},
   "outputs": [],
   "source": [
    "# print(sum(x*i for i, x in enumerate(d) if x != -1))"
   ]
  },
  {
   "cell_type": "code",
   "execution_count": 238,
   "id": "d68bbc62-6e8a-4807-a4b6-bda7327e30a7",
   "metadata": {},
   "outputs": [],
   "source": [
    "# d = []\n",
    "# for file, size in disk:\n",
    "#     if(file == -1):\n",
    "#         break\n",
    "#     d.extend([file]*size)\n",
    "# # print(d)"
   ]
  },
  {
   "cell_type": "code",
   "execution_count": 239,
   "id": "82f6696e-0d5c-4815-9819-cc02cfc02c31",
   "metadata": {},
   "outputs": [],
   "source": [
    "j = len(disk)-1\n",
    "while(j >= 0):\n",
    "    file, size = disk[j]\n",
    "    if(file == -1):\n",
    "        j -= 1\n",
    "        continue\n",
    "    resized = False\n",
    "    for i in range(j):\n",
    "        if(disk[i][0] == -1):\n",
    "            free = disk[i][1]\n",
    "            if(free == size):\n",
    "                disk[i] = (file, size)\n",
    "                disk[j] = (-1, size)\n",
    "                break\n",
    "            elif(free > size):\n",
    "                disk[i] = (-1, free-size)\n",
    "                disk[j] = (-1, size)\n",
    "                disk.insert(i, (file, size))\n",
    "                resized = True\n",
    "                break\n",
    "    if(not resized):\n",
    "        j -= 1"
   ]
  },
  {
   "cell_type": "code",
   "execution_count": 240,
   "id": "da2de2ac-59e6-4ffe-93cc-ee53068fc844",
   "metadata": {},
   "outputs": [],
   "source": [
    "# print(disk)"
   ]
  },
  {
   "cell_type": "code",
   "execution_count": 241,
   "id": "d51487cf-6909-4ec5-b17d-79a07239147b",
   "metadata": {},
   "outputs": [],
   "source": [
    "d = []\n",
    "for file, size in disk:\n",
    "    d.extend([file]*size)\n",
    "# print(d)"
   ]
  },
  {
   "cell_type": "code",
   "execution_count": 242,
   "id": "d124025d-0100-4635-a5e2-692cf50bd54b",
   "metadata": {},
   "outputs": [
    {
     "name": "stdout",
     "output_type": "stream",
     "text": [
      "6547228115826\n"
     ]
    }
   ],
   "source": [
    "print(sum(x*i for i, x in enumerate(d) if x != -1))"
   ]
  },
  {
   "cell_type": "code",
   "execution_count": null,
   "id": "ae4da665-350e-4a76-a972-886e2f93ea4a",
   "metadata": {},
   "outputs": [],
   "source": []
  },
  {
   "cell_type": "code",
   "execution_count": null,
   "id": "78abe057-c65b-45a7-a333-b388dd7cd696",
   "metadata": {},
   "outputs": [],
   "source": []
  },
  {
   "cell_type": "code",
   "execution_count": null,
   "id": "4465bd9f-4b83-48e8-9872-7e41dfa19d34",
   "metadata": {},
   "outputs": [],
   "source": []
  }
 ],
 "metadata": {
  "kernelspec": {
   "display_name": "Python 3 (ipykernel)",
   "language": "python",
   "name": "python3"
  },
  "language_info": {
   "codemirror_mode": {
    "name": "ipython",
    "version": 3
   },
   "file_extension": ".py",
   "mimetype": "text/x-python",
   "name": "python",
   "nbconvert_exporter": "python",
   "pygments_lexer": "ipython3",
   "version": "3.12.7"
  }
 },
 "nbformat": 4,
 "nbformat_minor": 5
}
